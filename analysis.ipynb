{
 "cells": [
  {
   "cell_type": "markdown",
   "metadata": {},
   "source": [
    "To set up and begin running DeepGlycanSite, we first need to create the environment that contains all of its dependencies. I have already established the environment, we just need to run it and make sure its working. "
   ]
  },
  {
   "cell_type": "code",
   "execution_count": 8,
   "metadata": {},
   "outputs": [
    {
     "data": {
      "text/plain": [
       "<docker.client.DockerClient at 0x10e5f14c0>"
      ]
     },
     "execution_count": 8,
     "metadata": {},
     "output_type": "execute_result"
    }
   ],
   "source": [
    "from pathlib import Path\n",
    "\n",
    "import docker\n",
    "import docker.errors\n",
    "from docker.models.containers import Container\n",
    "\n",
    "root = Path().resolve() #Root of this local project directory   \n",
    "\n",
    "try:\n",
    "    client: docker.client.DockerClient = docker.from_env()\n",
    "except Exception as e:\n",
    "    print(e)\n",
    "\n",
    "client"
   ]
  },
  {
   "cell_type": "code",
   "execution_count": 9,
   "metadata": {},
   "outputs": [
    {
     "name": "stdout",
     "output_type": "stream",
     "text": [
      "Starting container: docking_simulation_helpers-deepglycansite-1\n",
      "docking_simulation_helpers-deepglycansite-1\n"
     ]
    }
   ],
   "source": [
    "project_name = \"docking_simulation_helpers\" #Do Not Change\n",
    "service_name = \"deepglycansite\" #Here, choose the docking service you want to use as named in 'docker-compose.yml'\n",
    "\n",
    "containers = client.containers.list(all=True)\n",
    "\n",
    "app_container: Container = None\n",
    "\n",
    "for container in containers:\n",
    "    if f\"{project_name}-{service_name}-1\" in container.name:\n",
    "        print(f\"Starting container: {container.name}\")\n",
    "        try:\n",
    "            container.start()\n",
    "            print(container.name)\n",
    "            app_container = container\n",
    "            break\n",
    "        except docker.errors.APIError as e:\n",
    "            print(e)\n",
    "    "
   ]
  },
  {
   "cell_type": "code",
   "execution_count": null,
   "metadata": {},
   "outputs": [
    {
     "name": "stdout",
     "output_type": "stream",
     "text": [
      "User/OG29094-gangliotriose.sdf\n",
      "User/CBM32.pdb\n"
     ]
    },
    {
     "data": {
      "text/plain": [
       "(0, b'')"
      ]
     },
     "execution_count": 11,
     "metadata": {},
     "output_type": "execute_result"
    }
   ],
   "source": [
    "in_folder = \"User\" #Change to your name\n",
    "ligand_sdf = Path(f\"{in_folder}\" + \"/\" + \"OG29094-gangliotriose.sdf\") #Change /folder/example.sdf to the place where your file is in this directory.\n",
    "print(ligand_sdf)\n",
    "receptor_pdb = Path(f\"{in_folder}\" + \"/\" + \"cbmca.pdb\") #Change /folder/receptor.pdb the same way\n",
    "print(receptor_pdb)\n",
    "# Ensure the input folder exists in the docker container\n",
    "\n",
    "output_file_name = \"cbm3-gd2.txt\"\n",
    "\n",
    "cmd = f\"mkdir -p {in_folder}\"\n",
    "\n",
    "app_container.exec_run(cmd)\n",
    "\n",
    "exit_code, output = app_container.exec_run(cmd)\n",
    "\n",
    "example_path = Path(str(root) + \"/binding_site_files/IQZ2_sites.txt\").resolve()\n",
    "exit_code, output"
   ]
  },
  {
   "cell_type": "code",
   "execution_count": 12,
   "metadata": {},
   "outputs": [],
   "source": [
    "cmd = f\"python3 single_case_prediction.py --conf P2Y14_example/hparams.yaml --ckpt_path ckpts/with_ligand.ckpt --input_fn {receptor_pdb},{ligand_sdf} --out_path User/ --output_fn {output_file_name}\""
   ]
  },
  {
   "cell_type": "code",
   "execution_count": 13,
   "metadata": {},
   "outputs": [
    {
     "data": {
      "text/plain": [
       "ExecResult(exit_code=1, output=b'fused_multi_tensor is not installed corrected\\nfused_rounding is not installed corrected\\nfused_layer_norm is not installed corrected\\nfused_softmax is not installed corrected\\nLoading pretrained weights from /app/DeepGlycanSite/src/unimol_tools/weights/mol_pre_all_h_220816.pt\\nUser/OG29094-gangliotriose.sdf\\nTraceback (most recent call last):\\n  File \"/app/DeepGlycanSite/single_case_prediction.py\", line 611, in <module>\\n    main()\\n  File \"/app/DeepGlycanSite/single_case_prediction.py\", line 543, in main\\n    target = prot_to_pyg_graph(rec_file_name, 8.0)\\n  File \"/app/DeepGlycanSite/single_case_prediction.py\", line 291, in prot_to_pyg_graph\\n    u = mda.Universe(target_file_name)\\n  File \"/usr/local/lib/python3.9/site-packages/MDAnalysis/core/universe.py\", line 356, in __init__\\n    topology = _topology_from_file_like(self.filename,\\n  File \"/usr/local/lib/python3.9/site-packages/MDAnalysis/core/universe.py\", line 118, in _topology_from_file_like\\n    raise sys.exc_info()[1] from err\\n  File \"/usr/local/lib/python3.9/site-packages/MDAnalysis/core/universe.py\", line 110, in _topology_from_file_like\\n    topology = p.parse(**kwargs)\\n  File \"/usr/local/lib/python3.9/site-packages/MDAnalysis/topology/PDBParser.py\", line 210, in parse\\n    top = self._parseatoms()\\n  File \"/usr/local/lib/python3.9/site-packages/MDAnalysis/topology/PDBParser.py\", line 247, in _parseatoms\\n    with util.openany(self.filename) as f:\\n  File \"/usr/local/lib/python3.9/contextlib.py\", line 119, in __enter__\\n    return next(self.gen)\\n  File \"/usr/local/lib/python3.9/site-packages/MDAnalysis/lib/util.py\", line 318, in openany\\n    stream = anyopen(datasource, mode=mode, reset=reset)\\n  File \"/usr/local/lib/python3.9/site-packages/MDAnalysis/lib/util.py\", line 398, in anyopen\\n    stream = _get_stream(datasource, openfunc, mode=mode)\\n  File \"/usr/local/lib/python3.9/site-packages/MDAnalysis/lib/util.py\", line 440, in _get_stream\\n    raise sys.exc_info()[1] from err\\n  File \"/usr/local/lib/python3.9/site-packages/MDAnalysis/lib/util.py\", line 434, in _get_stream\\n    stream = openfunction(filename, mode=mode)\\n  File \"/usr/local/lib/python3.9/site-packages/MDAnalysis/lib/picklable_file_io.py\", line 478, in bz2_pickle_open\\n    binary_file = BZ2Picklable(name, bz_mode)\\n  File \"/usr/local/lib/python3.9/site-packages/MDAnalysis/lib/picklable_file_io.py\", line 266, in __init__\\n    super().__init__(name, mode)\\n  File \"/usr/local/lib/python3.9/bz2.py\", line 85, in __init__\\n    self._fp = _builtin_open(filename, mode)\\nFileNotFoundError: [Errno 2] No such file or directory: \\'User/CBM32.pdb\\'\\n')"
      ]
     },
     "execution_count": 13,
     "metadata": {},
     "output_type": "execute_result"
    }
   ],
   "source": [
    "app_container.exec_run(\n",
    "    cmd\n",
    ")"
   ]
  }
 ],
 "metadata": {
  "kernelspec": {
   "display_name": "Python 3",
   "language": "python",
   "name": "python3"
  },
  "language_info": {
   "codemirror_mode": {
    "name": "ipython",
    "version": 3
   },
   "file_extension": ".py",
   "mimetype": "text/x-python",
   "name": "python",
   "nbconvert_exporter": "python",
   "pygments_lexer": "ipython3",
   "version": "3.12.2"
  }
 },
 "nbformat": 4,
 "nbformat_minor": 2
}
