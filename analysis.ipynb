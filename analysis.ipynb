{
 "cells": [
  {
   "cell_type": "markdown",
   "metadata": {},
   "source": [
    "To set up and begin running DeepGlycanSite, we first need to create the environment that contains all of its dependencies. I have already established the environment, we just need to run it and make sure its working. "
   ]
  },
  {
   "cell_type": "code",
   "execution_count": 1,
   "metadata": {},
   "outputs": [
    {
     "data": {
      "text/plain": [
       "<docker.client.DockerClient at 0x11163f0b0>"
      ]
     },
     "execution_count": 1,
     "metadata": {},
     "output_type": "execute_result"
    }
   ],
   "source": [
    "from pathlib import Path\n",
    "\n",
    "import docker\n",
    "import docker.errors\n",
    "from docker.models.containers import Container\n",
    "\n",
    "root = Path().resolve() #Root of this local project directory   \n",
    "\n",
    "try:\n",
    "    client: docker.client.DockerClient = docker.from_env()\n",
    "except Exception as e:\n",
    "    print(e)\n",
    "\n",
    "client"
   ]
  },
  {
   "cell_type": "code",
   "execution_count": 3,
   "metadata": {},
   "outputs": [
    {
     "name": "stdout",
     "output_type": "stream",
     "text": [
      "Starting container: docking_simulation_helpers-deepglycansite-1\n",
      "docking_simulation_helpers-deepglycansite-1\n"
     ]
    }
   ],
   "source": [
    "project_name = \"docking_simulation_helpers\" #Do Not Change\n",
    "service_name = \"deepglycansite\" #Here, choose the docking service you want to use as named in 'docker-compose.yml'\n",
    "\n",
    "containers = client.containers.list(all=True)\n",
    "\n",
    "app_container: Container = None\n",
    "\n",
    "for container in containers:\n",
    "    if f\"{project_name}-{service_name}-1\" in container.name:\n",
    "        print(f\"Starting container: {container.name}\")\n",
    "        try:\n",
    "            container.start()\n",
    "            print(container.name)\n",
    "            app_container = container\n",
    "            break\n",
    "        except docker.errors.APIError as e:\n",
    "            print(e)\n",
    "    "
   ]
  },
  {
   "cell_type": "code",
   "execution_count": 17,
   "metadata": {},
   "outputs": [
    {
     "name": "stdout",
     "output_type": "stream",
     "text": [
      "User/NAG.sdf\n",
      "User/CBM32.pdb\n"
     ]
    },
    {
     "data": {
      "text/plain": [
       "(0, b'')"
      ]
     },
     "execution_count": 17,
     "metadata": {},
     "output_type": "execute_result"
    }
   ],
   "source": [
    "in_folder = \"User\" #Change to your name\n",
    "ligand_sdf = Path(f\"{in_folder}\" + \"/\" + \"NAG.sdf\") #Change /folder/example.sdf to the place where your file is in this directory.\n",
    "print(ligand_sdf)\n",
    "receptor_pdb = Path(f\"{in_folder}\" + \"/\" + \"CBM32.pdb\") #Change /folder/receptor.pdb the same way\n",
    "print(receptor_pdb)\n",
    "# Ensure the input folder exists in the docker container\n",
    "\n",
    "output_file_name = \"example.txt\"\n",
    "\n",
    "cmd = f\"mkdir -p {in_folder}\"\n",
    "\n",
    "app_container.exec_run(cmd)\n",
    "\n",
    "exit_code, output = app_container.exec_run(cmd)\n",
    "\n",
    "example_path = Path(str(root) + \"/binding_site_files/IQZ2_sites.txt\").resolve()\n",
    "exit_code, output"
   ]
  },
  {
   "cell_type": "code",
   "execution_count": 18,
   "metadata": {},
   "outputs": [],
   "source": [
    "cmd = f\"python3 single_case_prediction.py --conf P2Y14_example/hparams.yaml --ckpt_path ckpts/with_ligand.ckpt --input_fn {receptor_pdb},{ligand_sdf} --out_path User/ --output_fn {output_file_name}\""
   ]
  },
  {
   "cell_type": "code",
   "execution_count": 19,
   "metadata": {},
   "outputs": [
    {
     "data": {
      "text/plain": [
       "ExecResult(exit_code=0, output=b'fused_multi_tensor is not installed corrected\\nfused_rounding is not installed corrected\\nfused_layer_norm is not installed corrected\\nfused_softmax is not installed corrected\\nLoading pretrained weights from /app/DeepGlycanSite/src/unimol_tools/weights/mol_pre_all_h_220816.pt\\nUser/NAG.sdf\\nencountered unknown AA:  CA  in the complex. Replacing it with a dash - .\\nencountered unknown AA:  CA  in the complex. Replacing it with a dash - .\\nencountered unknown AA:  HOH  in the complex. Replacing it with a dash - .\\nencountered unknown AA:  HOH  in the complex. Replacing it with a dash - .\\nencountered unknown AA:  HOH  in the complex. Replacing it with a dash - .\\nencountered unknown AA:  HOH  in the complex. Replacing it with a dash - .\\nencountered unknown AA:  HOH  in the complex. Replacing it with a dash - .\\nencountered unknown AA:  HOH  in the complex. Replacing it with a dash - .\\nencountered unknown AA:  HOH  in the complex. Replacing it with a dash - .\\nencountered unknown AA:  HOH  in the complex. Replacing it with a dash - .\\nencountered unknown AA:  HOH  in the complex. Replacing it with a dash - .\\nencountered unknown AA:  HOH  in the complex. Replacing it with a dash - .\\nencountered unknown AA:  HOH  in the complex. Replacing it with a dash - .\\nencountered unknown AA:  HOH  in the complex. Replacing it with a dash - .\\nencountered unknown AA:  HOH  in the complex. Replacing it with a dash - .\\nencountered unknown AA:  HOH  in the complex. Replacing it with a dash - .\\nencountered unknown AA:  HOH  in the complex. Replacing it with a dash - .\\nencountered unknown AA:  HOH  in the complex. Replacing it with a dash - .\\nencountered unknown AA:  HOH  in the complex. Replacing it with a dash - .\\nencountered unknown AA:  HOH  in the complex. Replacing it with a dash - .\\nencountered unknown AA:  HOH  in the complex. Replacing it with a dash - .\\nencountered unknown AA:  HOH  in the complex. Replacing it with a dash - .\\nencountered unknown AA:  HOH  in the complex. Replacing it with a dash - .\\nencountered unknown AA:  HOH  in the complex. Replacing it with a dash - .\\nencountered unknown AA:  HOH  in the complex. Replacing it with a dash - .\\nencountered unknown AA:  HOH  in the complex. Replacing it with a dash - .\\nencountered unknown AA:  HOH  in the complex. Replacing it with a dash - .\\nencountered unknown AA:  HOH  in the complex. Replacing it with a dash - .\\nencountered unknown AA:  HOH  in the complex. Replacing it with a dash - .\\nencountered unknown AA:  HOH  in the complex. Replacing it with a dash - .\\nencountered unknown AA:  HOH  in the complex. Replacing it with a dash - .\\nencountered unknown AA:  HOH  in the complex. Replacing it with a dash - .\\nencountered unknown AA:  HOH  in the complex. Replacing it with a dash - .\\nencountered unknown AA:  HOH  in the complex. Replacing it with a dash - .\\nencountered unknown AA:  HOH  in the complex. Replacing it with a dash - .\\nencountered unknown AA:  HOH  in the complex. Replacing it with a dash - .\\nencountered unknown AA:  HOH  in the complex. Replacing it with a dash - .\\nencountered unknown AA:  HOH  in the complex. Replacing it with a dash - .\\nencountered unknown AA:  HOH  in the complex. Replacing it with a dash - .\\nencountered unknown AA:  HOH  in the complex. Replacing it with a dash - .\\nencountered unknown AA:  HOH  in the complex. Replacing it with a dash - .\\nencountered unknown AA:  HOH  in the complex. Replacing it with a dash - .\\nencountered unknown AA:  HOH  in the complex. Replacing it with a dash - .\\nencountered unknown AA:  HOH  in the complex. Replacing it with a dash - .\\nencountered unknown AA:  HOH  in the complex. Replacing it with a dash - .\\nencountered unknown AA:  HOH  in the complex. Replacing it with a dash - .\\nencountered unknown AA:  HOH  in the complex. Replacing it with a dash - .\\nencountered unknown AA:  HOH  in the complex. Replacing it with a dash - .\\nencountered unknown AA:  HOH  in the complex. Replacing it with a dash - .\\nencountered unknown AA:  HOH  in the complex. Replacing it with a dash - .\\nencountered unknown AA:  HOH  in the complex. Replacing it with a dash - .\\nencountered unknown AA:  HOH  in the complex. Replacing it with a dash - .\\nencountered unknown AA:  HOH  in the complex. Replacing it with a dash - .\\nencountered unknown AA:  HOH  in the complex. Replacing it with a dash - .\\nencountered unknown AA:  HOH  in the complex. Replacing it with a dash - .\\nencountered unknown AA:  HOH  in the complex. Replacing it with a dash - .\\nencountered unknown AA:  HOH  in the complex. Replacing it with a dash - .\\nencountered unknown AA:  HOH  in the complex. Replacing it with a dash - .\\nencountered unknown AA:  HOH  in the complex. Replacing it with a dash - .\\nencountered unknown AA:  HOH  in the complex. Replacing it with a dash - .\\nencountered unknown AA:  HOH  in the complex. Replacing it with a dash - .\\nencountered unknown AA:  HOH  in the complex. Replacing it with a dash - .\\nencountered unknown AA:  HOH  in the complex. Replacing it with a dash - .\\nencountered unknown AA:  HOH  in the complex. Replacing it with a dash - .\\nencountered unknown AA:  HOH  in the complex. Replacing it with a dash - .\\nencountered unknown AA:  HOH  in the complex. Replacing it with a dash - .\\nencountered unknown AA:  HOH  in the complex. Replacing it with a dash - .\\nencountered unknown AA:  HOH  in the complex. Replacing it with a dash - .\\nencountered unknown AA:  HOH  in the complex. Replacing it with a dash - .\\nencountered unknown AA:  HOH  in the complex. Replacing it with a dash - .\\nencountered unknown AA:  HOH  in the complex. Replacing it with a dash - .\\nencountered unknown AA:  HOH  in the complex. Replacing it with a dash - .\\nencountered unknown AA:  HOH  in the complex. Replacing it with a dash - .\\nencountered unknown AA:  HOH  in the complex. Replacing it with a dash - .\\nencountered unknown AA:  HOH  in the complex. Replacing it with a dash - .\\nencountered unknown AA:  HOH  in the complex. Replacing it with a dash - .\\nencountered unknown AA:  HOH  in the complex. Replacing it with a dash - .\\nencountered unknown AA:  HOH  in the complex. Replacing it with a dash - .\\nencountered unknown AA:  HOH  in the complex. Replacing it with a dash - .\\nencountered unknown AA:  HOH  in the complex. Replacing it with a dash - .\\nencountered unknown AA:  HOH  in the complex. Replacing it with a dash - .\\nencountered unknown AA:  HOH  in the complex. Replacing it with a dash - .\\nencountered unknown AA:  HOH  in the complex. Replacing it with a dash - .\\nencountered unknown AA:  HOH  in the complex. Replacing it with a dash - .\\nencountered unknown AA:  HOH  in the complex. Replacing it with a dash - .\\nencountered unknown AA:  HOH  in the complex. Replacing it with a dash - .\\nencountered unknown AA:  HOH  in the complex. Replacing it with a dash - .\\nencountered unknown AA:  HOH  in the complex. Replacing it with a dash - .\\nencountered unknown AA:  HOH  in the complex. Replacing it with a dash - .\\nencountered unknown AA:  HOH  in the complex. Replacing it with a dash - .\\nencountered unknown AA:  HOH  in the complex. Replacing it with a dash - .\\nencountered unknown AA:  HOH  in the complex. Replacing it with a dash - .\\nencountered unknown AA:  HOH  in the complex. Replacing it with a dash - .\\nencountered unknown AA:  HOH  in the complex. Replacing it with a dash - .\\nencountered unknown AA:  HOH  in the complex. Replacing it with a dash - .\\nencountered unknown AA:  HOH  in the complex. Replacing it with a dash - .\\nencountered unknown AA:  HOH  in the complex. Replacing it with a dash - .\\nencountered unknown AA:  HOH  in the complex. Replacing it with a dash - .\\nencountered unknown AA:  HOH  in the complex. Replacing it with a dash - .\\nencountered unknown AA:  HOH  in the complex. Replacing it with a dash - .\\nencountered unknown AA:  HOH  in the complex. Replacing it with a dash - .\\nencountered unknown AA:  HOH  in the complex. Replacing it with a dash - .\\nencountered unknown AA:  HOH  in the complex. Replacing it with a dash - .\\nencountered unknown AA:  HOH  in the complex. Replacing it with a dash - .\\nencountered unknown AA:  HOH  in the complex. Replacing it with a dash - .\\nencountered unknown AA:  HOH  in the complex. Replacing it with a dash - .\\nencountered unknown AA:  HOH  in the complex. Replacing it with a dash - .\\nencountered unknown AA:  HOH  in the complex. Replacing it with a dash - .\\nencountered unknown AA:  HOH  in the complex. Replacing it with a dash - .\\nencountered unknown AA:  HOH  in the complex. Replacing it with a dash - .\\nencountered unknown AA:  HOH  in the complex. Replacing it with a dash - .\\nencountered unknown AA:  HOH  in the complex. Replacing it with a dash - .\\nencountered unknown AA:  HOH  in the complex. Replacing it with a dash - .\\nencountered unknown AA:  HOH  in the complex. Replacing it with a dash - .\\nencountered unknown AA:  HOH  in the complex. Replacing it with a dash - .\\nencountered unknown AA:  HOH  in the complex. Replacing it with a dash - .\\nencountered unknown AA:  HOH  in the complex. Replacing it with a dash - .\\nencountered unknown AA:  HOH  in the complex. Replacing it with a dash - .\\nencountered unknown AA:  HOH  in the complex. Replacing it with a dash - .\\nencountered unknown AA:  HOH  in the complex. Replacing it with a dash - .\\nencountered unknown AA:  HOH  in the complex. Replacing it with a dash - .\\nencountered unknown AA:  HOH  in the complex. Replacing it with a dash - .\\nencountered unknown AA:  HOH  in the complex. Replacing it with a dash - .\\nencountered unknown AA:  HOH  in the complex. Replacing it with a dash - .\\nencountered unknown AA:  HOH  in the complex. Replacing it with a dash - .\\nencountered unknown AA:  HOH  in the complex. Replacing it with a dash - .\\nencountered unknown AA:  HOH  in the complex. Replacing it with a dash - .\\nencountered unknown AA:  HOH  in the complex. Replacing it with a dash - .\\nencountered unknown AA:  HOH  in the complex. Replacing it with a dash - .\\nencountered unknown AA:  HOH  in the complex. Replacing it with a dash - .\\nencountered unknown AA:  HOH  in the complex. Replacing it with a dash - .\\nencountered unknown AA:  HOH  in the complex. Replacing it with a dash - .\\nencountered unknown AA:  HOH  in the complex. Replacing it with a dash - .\\nencountered unknown AA:  HOH  in the complex. Replacing it with a dash - .\\nencountered unknown AA:  HOH  in the complex. Replacing it with a dash - .\\nencountered unknown AA:  HOH  in the complex. Replacing it with a dash - .\\nencountered unknown AA:  HOH  in the complex. Replacing it with a dash - .\\nencountered unknown AA:  HOH  in the complex. Replacing it with a dash - .\\nencountered unknown AA:  HOH  in the complex. Replacing it with a dash - .\\nencountered unknown AA:  HOH  in the complex. Replacing it with a dash - .\\nencountered unknown AA:  PO4  in the complex. Replacing it with a dash - .\\nDownloading: \"https://dl.fbaipublicfiles.com/fair-esm/models/esm2_t33_650M_UR50D.pt\" to /root/.cache/torch/hub/checkpoints/esm2_t33_650M_UR50D.pt\\nDownloading: \"https://dl.fbaipublicfiles.com/fair-esm/regression/esm2_t33_650M_UR50D-contact-regression.pt\" to /root/.cache/torch/hub/checkpoints/esm2_t33_650M_UR50D-contact-regression.pt\\nCC(=O)N[C@@H]1[C@@H](O)[C@H](O)[C@@H](CO)O[C@H]1O\\n\\r0it [00:00, ?it/s]\\r1it [00:00, 11.38it/s]\\n\\rval:   0%|          | 0/1 [00:00<?, ?it/s]\\r                                          \\r256 8 7 7 0.1468558190536503\\n256 8 7 7 0.1468558190536503\\nGPU available: False, used: False\\nTPU available: False, using: 0 TPU cores\\nIPU available: False, using: 0 IPUs\\nHPU available: False, using: 0 HPUs\\nMissing logger folder: User/results/lightning_logs\\n\\rTesting: 0it [00:00, ?it/s]\\rTesting:   0%|          | 0/1 [00:00<?, ?it/s]\\rTesting DataLoader 0:   0%|          | 0/1 [00:00<?, ?it/s]User/example.txt result_file\\n\\rTesting DataLoader 0: 100%|\\xe2\\x96\\x88\\xe2\\x96\\x88\\xe2\\x96\\x88\\xe2\\x96\\x88\\xe2\\x96\\x88\\xe2\\x96\\x88\\xe2\\x96\\x88\\xe2\\x96\\x88\\xe2\\x96\\x88\\xe2\\x96\\x88| 1/1 [00:06<00:00,  6.77s/it]\\rTesting DataLoader 0: 100%|\\xe2\\x96\\x88\\xe2\\x96\\x88\\xe2\\x96\\x88\\xe2\\x96\\x88\\xe2\\x96\\x88\\xe2\\x96\\x88\\xe2\\x96\\x88\\xe2\\x96\\x88\\xe2\\x96\\x88\\xe2\\x96\\x88| 1/1 [00:06<00:00,  6.85s/it]\\n\\xe2\\x94\\x80\\xe2\\x94\\x80\\xe2\\x94\\x80\\xe2\\x94\\x80\\xe2\\x94\\x80\\xe2\\x94\\x80\\xe2\\x94\\x80\\xe2\\x94\\x80\\xe2\\x94\\x80\\xe2\\x94\\x80\\xe2\\x94\\x80\\xe2\\x94\\x80\\xe2\\x94\\x80\\xe2\\x94\\x80\\xe2\\x94\\x80\\xe2\\x94\\x80\\xe2\\x94\\x80\\xe2\\x94\\x80\\xe2\\x94\\x80\\xe2\\x94\\x80\\xe2\\x94\\x80\\xe2\\x94\\x80\\xe2\\x94\\x80\\xe2\\x94\\x80\\xe2\\x94\\x80\\xe2\\x94\\x80\\xe2\\x94\\x80\\xe2\\x94\\x80\\xe2\\x94\\x80\\xe2\\x94\\x80\\xe2\\x94\\x80\\xe2\\x94\\x80\\xe2\\x94\\x80\\xe2\\x94\\x80\\xe2\\x94\\x80\\xe2\\x94\\x80\\xe2\\x94\\x80\\xe2\\x94\\x80\\xe2\\x94\\x80\\xe2\\x94\\x80\\xe2\\x94\\x80\\xe2\\x94\\x80\\xe2\\x94\\x80\\xe2\\x94\\x80\\xe2\\x94\\x80\\xe2\\x94\\x80\\xe2\\x94\\x80\\xe2\\x94\\x80\\xe2\\x94\\x80\\xe2\\x94\\x80\\xe2\\x94\\x80\\xe2\\x94\\x80\\xe2\\x94\\x80\\xe2\\x94\\x80\\xe2\\x94\\x80\\xe2\\x94\\x80\\xe2\\x94\\x80\\xe2\\x94\\x80\\xe2\\x94\\x80\\xe2\\x94\\x80\\xe2\\x94\\x80\\xe2\\x94\\x80\\xe2\\x94\\x80\\xe2\\x94\\x80\\xe2\\x94\\x80\\xe2\\x94\\x80\\xe2\\x94\\x80\\xe2\\x94\\x80\\xe2\\x94\\x80\\xe2\\x94\\x80\\xe2\\x94\\x80\\xe2\\x94\\x80\\xe2\\x94\\x80\\xe2\\x94\\x80\\xe2\\x94\\x80\\xe2\\x94\\x80\\xe2\\x94\\x80\\xe2\\x94\\x80\\xe2\\x94\\x80\\xe2\\x94\\x80\\xe2\\x94\\x80\\xe2\\x94\\x80\\xe2\\x94\\x80\\xe2\\x94\\x80\\xe2\\x94\\x80\\xe2\\x94\\x80\\xe2\\x94\\x80\\xe2\\x94\\x80\\xe2\\x94\\x80\\xe2\\x94\\x80\\xe2\\x94\\x80\\xe2\\x94\\x80\\xe2\\x94\\x80\\xe2\\x94\\x80\\xe2\\x94\\x80\\xe2\\x94\\x80\\xe2\\x94\\x80\\xe2\\x94\\x80\\xe2\\x94\\x80\\xe2\\x94\\x80\\xe2\\x94\\x80\\xe2\\x94\\x80\\xe2\\x94\\x80\\xe2\\x94\\x80\\xe2\\x94\\x80\\xe2\\x94\\x80\\xe2\\x94\\x80\\xe2\\x94\\x80\\xe2\\x94\\x80\\xe2\\x94\\x80\\xe2\\x94\\x80\\xe2\\x94\\x80\\xe2\\x94\\x80\\xe2\\x94\\x80\\xe2\\x94\\x80\\xe2\\x94\\x80\\xe2\\x94\\x80\\xe2\\x94\\x80\\xe2\\x94\\x80\\xe2\\x94\\x80\\n       Test metric             DataLoader 0\\n\\xe2\\x94\\x80\\xe2\\x94\\x80\\xe2\\x94\\x80\\xe2\\x94\\x80\\xe2\\x94\\x80\\xe2\\x94\\x80\\xe2\\x94\\x80\\xe2\\x94\\x80\\xe2\\x94\\x80\\xe2\\x94\\x80\\xe2\\x94\\x80\\xe2\\x94\\x80\\xe2\\x94\\x80\\xe2\\x94\\x80\\xe2\\x94\\x80\\xe2\\x94\\x80\\xe2\\x94\\x80\\xe2\\x94\\x80\\xe2\\x94\\x80\\xe2\\x94\\x80\\xe2\\x94\\x80\\xe2\\x94\\x80\\xe2\\x94\\x80\\xe2\\x94\\x80\\xe2\\x94\\x80\\xe2\\x94\\x80\\xe2\\x94\\x80\\xe2\\x94\\x80\\xe2\\x94\\x80\\xe2\\x94\\x80\\xe2\\x94\\x80\\xe2\\x94\\x80\\xe2\\x94\\x80\\xe2\\x94\\x80\\xe2\\x94\\x80\\xe2\\x94\\x80\\xe2\\x94\\x80\\xe2\\x94\\x80\\xe2\\x94\\x80\\xe2\\x94\\x80\\xe2\\x94\\x80\\xe2\\x94\\x80\\xe2\\x94\\x80\\xe2\\x94\\x80\\xe2\\x94\\x80\\xe2\\x94\\x80\\xe2\\x94\\x80\\xe2\\x94\\x80\\xe2\\x94\\x80\\xe2\\x94\\x80\\xe2\\x94\\x80\\xe2\\x94\\x80\\xe2\\x94\\x80\\xe2\\x94\\x80\\xe2\\x94\\x80\\xe2\\x94\\x80\\xe2\\x94\\x80\\xe2\\x94\\x80\\xe2\\x94\\x80\\xe2\\x94\\x80\\xe2\\x94\\x80\\xe2\\x94\\x80\\xe2\\x94\\x80\\xe2\\x94\\x80\\xe2\\x94\\x80\\xe2\\x94\\x80\\xe2\\x94\\x80\\xe2\\x94\\x80\\xe2\\x94\\x80\\xe2\\x94\\x80\\xe2\\x94\\x80\\xe2\\x94\\x80\\xe2\\x94\\x80\\xe2\\x94\\x80\\xe2\\x94\\x80\\xe2\\x94\\x80\\xe2\\x94\\x80\\xe2\\x94\\x80\\xe2\\x94\\x80\\xe2\\x94\\x80\\xe2\\x94\\x80\\xe2\\x94\\x80\\xe2\\x94\\x80\\xe2\\x94\\x80\\xe2\\x94\\x80\\xe2\\x94\\x80\\xe2\\x94\\x80\\xe2\\x94\\x80\\xe2\\x94\\x80\\xe2\\x94\\x80\\xe2\\x94\\x80\\xe2\\x94\\x80\\xe2\\x94\\x80\\xe2\\x94\\x80\\xe2\\x94\\x80\\xe2\\x94\\x80\\xe2\\x94\\x80\\xe2\\x94\\x80\\xe2\\x94\\x80\\xe2\\x94\\x80\\xe2\\x94\\x80\\xe2\\x94\\x80\\xe2\\x94\\x80\\xe2\\x94\\x80\\xe2\\x94\\x80\\xe2\\x94\\x80\\xe2\\x94\\x80\\xe2\\x94\\x80\\xe2\\x94\\x80\\xe2\\x94\\x80\\xe2\\x94\\x80\\xe2\\x94\\x80\\xe2\\x94\\x80\\xe2\\x94\\x80\\xe2\\x94\\x80\\xe2\\x94\\x80\\xe2\\x94\\x80\\xe2\\x94\\x80\\xe2\\x94\\x80\\xe2\\x94\\x80\\n        test_loss                   0.0\\n\\xe2\\x94\\x80\\xe2\\x94\\x80\\xe2\\x94\\x80\\xe2\\x94\\x80\\xe2\\x94\\x80\\xe2\\x94\\x80\\xe2\\x94\\x80\\xe2\\x94\\x80\\xe2\\x94\\x80\\xe2\\x94\\x80\\xe2\\x94\\x80\\xe2\\x94\\x80\\xe2\\x94\\x80\\xe2\\x94\\x80\\xe2\\x94\\x80\\xe2\\x94\\x80\\xe2\\x94\\x80\\xe2\\x94\\x80\\xe2\\x94\\x80\\xe2\\x94\\x80\\xe2\\x94\\x80\\xe2\\x94\\x80\\xe2\\x94\\x80\\xe2\\x94\\x80\\xe2\\x94\\x80\\xe2\\x94\\x80\\xe2\\x94\\x80\\xe2\\x94\\x80\\xe2\\x94\\x80\\xe2\\x94\\x80\\xe2\\x94\\x80\\xe2\\x94\\x80\\xe2\\x94\\x80\\xe2\\x94\\x80\\xe2\\x94\\x80\\xe2\\x94\\x80\\xe2\\x94\\x80\\xe2\\x94\\x80\\xe2\\x94\\x80\\xe2\\x94\\x80\\xe2\\x94\\x80\\xe2\\x94\\x80\\xe2\\x94\\x80\\xe2\\x94\\x80\\xe2\\x94\\x80\\xe2\\x94\\x80\\xe2\\x94\\x80\\xe2\\x94\\x80\\xe2\\x94\\x80\\xe2\\x94\\x80\\xe2\\x94\\x80\\xe2\\x94\\x80\\xe2\\x94\\x80\\xe2\\x94\\x80\\xe2\\x94\\x80\\xe2\\x94\\x80\\xe2\\x94\\x80\\xe2\\x94\\x80\\xe2\\x94\\x80\\xe2\\x94\\x80\\xe2\\x94\\x80\\xe2\\x94\\x80\\xe2\\x94\\x80\\xe2\\x94\\x80\\xe2\\x94\\x80\\xe2\\x94\\x80\\xe2\\x94\\x80\\xe2\\x94\\x80\\xe2\\x94\\x80\\xe2\\x94\\x80\\xe2\\x94\\x80\\xe2\\x94\\x80\\xe2\\x94\\x80\\xe2\\x94\\x80\\xe2\\x94\\x80\\xe2\\x94\\x80\\xe2\\x94\\x80\\xe2\\x94\\x80\\xe2\\x94\\x80\\xe2\\x94\\x80\\xe2\\x94\\x80\\xe2\\x94\\x80\\xe2\\x94\\x80\\xe2\\x94\\x80\\xe2\\x94\\x80\\xe2\\x94\\x80\\xe2\\x94\\x80\\xe2\\x94\\x80\\xe2\\x94\\x80\\xe2\\x94\\x80\\xe2\\x94\\x80\\xe2\\x94\\x80\\xe2\\x94\\x80\\xe2\\x94\\x80\\xe2\\x94\\x80\\xe2\\x94\\x80\\xe2\\x94\\x80\\xe2\\x94\\x80\\xe2\\x94\\x80\\xe2\\x94\\x80\\xe2\\x94\\x80\\xe2\\x94\\x80\\xe2\\x94\\x80\\xe2\\x94\\x80\\xe2\\x94\\x80\\xe2\\x94\\x80\\xe2\\x94\\x80\\xe2\\x94\\x80\\xe2\\x94\\x80\\xe2\\x94\\x80\\xe2\\x94\\x80\\xe2\\x94\\x80\\xe2\\x94\\x80\\xe2\\x94\\x80\\xe2\\x94\\x80\\xe2\\x94\\x80\\xe2\\x94\\x80\\xe2\\x94\\x80\\xe2\\x94\\x80\\xe2\\x94\\x80\\n')"
      ]
     },
     "execution_count": 19,
     "metadata": {},
     "output_type": "execute_result"
    }
   ],
   "source": [
    "app_container.exec_run(\n",
    "    cmd\n",
    ")"
   ]
  }
 ],
 "metadata": {
  "kernelspec": {
   "display_name": "Python 3",
   "language": "python",
   "name": "python3"
  },
  "language_info": {
   "codemirror_mode": {
    "name": "ipython",
    "version": 3
   },
   "file_extension": ".py",
   "mimetype": "text/x-python",
   "name": "python",
   "nbconvert_exporter": "python",
   "pygments_lexer": "ipython3",
   "version": "3.12.3"
  }
 },
 "nbformat": 4,
 "nbformat_minor": 2
}
