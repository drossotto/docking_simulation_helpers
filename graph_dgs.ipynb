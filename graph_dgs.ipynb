{
 "cells": [
  {
   "cell_type": "code",
   "execution_count": 10,
   "metadata": {},
   "outputs": [
    {
     "data": {
      "text/plain": [
       "True"
      ]
     },
     "execution_count": 10,
     "metadata": {},
     "output_type": "execute_result"
    }
   ],
   "source": [
    "from pathlib import Path\n",
    "import pandas as pd\n",
    "import matplotlib.pyplot as plt\n",
    "import seaborn as sns\n",
    "\n",
    "first_results = Path().resolve()\n",
    "\n",
    "janique_insert_result_here = \"example.txt\"\n",
    "\n",
    "first_results = Path(first_results / f\"DeepGlycanSite/DeepGlycanSite/User/{janique_insert_result_here}\")\n",
    "\n",
    "\n",
    "first_results.exists()"
   ]
  },
  {
   "cell_type": "code",
   "execution_count": null,
   "metadata": {},
   "outputs": [],
   "source": [
    "def return_binding_probabilities(file_path: Path) -> tuple[list, int]:\n",
    "    probabilities = []\n",
    "    \n",
    "    with open(file_path, 'r') as file:\n",
    "        lines = file.readlines()\n",
    "        \n",
    "        for line in lines:\n",
    "            num = line.split(\"[\")[1]\n",
    "            num = num.split(\"]\")[0]\n",
    "            num = float(num)\n",
    "\n",
    "            probabilities.append(num)\n",
    "        \n",
    "        num_residues = len(file.readlines())\n",
    "\n",
    "    return probabilities, num_residues\n"
   ]
  },
  {
   "cell_type": "code",
   "execution_count": null,
   "metadata": {},
   "outputs": [],
   "source": [
    "residue_number = []\n",
    "first_probabilities = []\n",
    "\n",
    "with open(first_results, \"r\") as file:\n",
    "    lines = file.readlines()\n",
    "    for line in lines:\n",
    "        num = line.split(\"[\")[1]\n",
    "        num = num.split(\"]\")[0]\n",
    "        num = float(num)\n",
    "\n",
    "        first_probabilities.append(num)\n",
    "        residue_number.append(len(first_probabilities))\n",
    "        "
   ]
  },
  {
   "cell_type": "code",
   "execution_count": null,
   "metadata": {},
   "outputs": [
    {
     "name": "stdout",
     "output_type": "stream",
     "text": [
      "True\n"
     ]
    }
   ],
   "source": [
    "second_probabilities = []\n",
    "\n",
    "second_results = Path().resolve()\n",
    "second_results = Path(second_results / \"DeepGlycanSite/DeepGlycanSite/User/cbm3-gd2.txt\")\n",
    "\n",
    "print(gd2_results.exists())\n",
    "count = 1\n",
    "\n",
    "with open(gd2_results, \"r\") as file:\n",
    "    lines = file.readlines()\n",
    "    for line in lines:\n",
    "        num = line.split(\"[\")[1]\n",
    "        num = num.split(\"]\")[0]\n",
    "        num = float(num)\n",
    "\n",
    "        gd2_probabilities.append(num)\n",
    "        residue_number.append(count)\n",
    "        count += 1"
   ]
  },
  {
   "cell_type": "code",
   "execution_count": 97,
   "metadata": {},
   "outputs": [],
   "source": [
    "data = pd.DataFrame(columns=[\"Residue Number\", \"Binding Probabilities\"])"
   ]
  },
  {
   "cell_type": "code",
   "execution_count": null,
   "metadata": {},
   "outputs": [
    {
     "data": {
      "text/html": [
       "<div>\n",
       "<style scoped>\n",
       "    .dataframe tbody tr th:only-of-type {\n",
       "        vertical-align: middle;\n",
       "    }\n",
       "\n",
       "    .dataframe tbody tr th {\n",
       "        vertical-align: top;\n",
       "    }\n",
       "\n",
       "    .dataframe thead th {\n",
       "        text-align: right;\n",
       "    }\n",
       "</style>\n",
       "<table border=\"1\" class=\"dataframe\">\n",
       "  <thead>\n",
       "    <tr style=\"text-align: right;\">\n",
       "      <th></th>\n",
       "      <th>Residue Number</th>\n",
       "      <th>Binding Probabilities</th>\n",
       "      <th>Ligands</th>\n",
       "    </tr>\n",
       "  </thead>\n",
       "  <tbody>\n",
       "    <tr>\n",
       "      <th>32</th>\n",
       "      <td>33</td>\n",
       "      <td>0.4756</td>\n",
       "      <td>GalNAc</td>\n",
       "    </tr>\n",
       "    <tr>\n",
       "      <th>60</th>\n",
       "      <td>61</td>\n",
       "      <td>0.5514</td>\n",
       "      <td>GalNAc</td>\n",
       "    </tr>\n",
       "    <tr>\n",
       "      <th>62</th>\n",
       "      <td>63</td>\n",
       "      <td>0.4988</td>\n",
       "      <td>GalNAc</td>\n",
       "    </tr>\n",
       "    <tr>\n",
       "      <th>65</th>\n",
       "      <td>66</td>\n",
       "      <td>0.5712</td>\n",
       "      <td>GalNAc</td>\n",
       "    </tr>\n",
       "    <tr>\n",
       "      <th>78</th>\n",
       "      <td>79</td>\n",
       "      <td>0.5003</td>\n",
       "      <td>GalNAc</td>\n",
       "    </tr>\n",
       "    <tr>\n",
       "      <th>79</th>\n",
       "      <td>80</td>\n",
       "      <td>0.5025</td>\n",
       "      <td>GalNAc</td>\n",
       "    </tr>\n",
       "    <tr>\n",
       "      <th>126</th>\n",
       "      <td>127</td>\n",
       "      <td>0.5245</td>\n",
       "      <td>GalNAc</td>\n",
       "    </tr>\n",
       "    <tr>\n",
       "      <th>169</th>\n",
       "      <td>33</td>\n",
       "      <td>0.5211</td>\n",
       "      <td>GD2</td>\n",
       "    </tr>\n",
       "    <tr>\n",
       "      <th>197</th>\n",
       "      <td>61</td>\n",
       "      <td>0.5599</td>\n",
       "      <td>GD2</td>\n",
       "    </tr>\n",
       "    <tr>\n",
       "      <th>199</th>\n",
       "      <td>63</td>\n",
       "      <td>0.5650</td>\n",
       "      <td>GD2</td>\n",
       "    </tr>\n",
       "    <tr>\n",
       "      <th>202</th>\n",
       "      <td>66</td>\n",
       "      <td>0.5408</td>\n",
       "      <td>GD2</td>\n",
       "    </tr>\n",
       "    <tr>\n",
       "      <th>215</th>\n",
       "      <td>79</td>\n",
       "      <td>0.5292</td>\n",
       "      <td>GD2</td>\n",
       "    </tr>\n",
       "    <tr>\n",
       "      <th>216</th>\n",
       "      <td>80</td>\n",
       "      <td>0.5062</td>\n",
       "      <td>GD2</td>\n",
       "    </tr>\n",
       "    <tr>\n",
       "      <th>263</th>\n",
       "      <td>127</td>\n",
       "      <td>0.5413</td>\n",
       "      <td>GD2</td>\n",
       "    </tr>\n",
       "  </tbody>\n",
       "</table>\n",
       "</div>"
      ],
      "text/plain": [
       "     Residue Number  Binding Probabilities Ligands\n",
       "32               33                 0.4756  GalNAc\n",
       "60               61                 0.5514  GalNAc\n",
       "62               63                 0.4988  GalNAc\n",
       "65               66                 0.5712  GalNAc\n",
       "78               79                 0.5003  GalNAc\n",
       "79               80                 0.5025  GalNAc\n",
       "126             127                 0.5245  GalNAc\n",
       "169              33                 0.5211     GD2\n",
       "197              61                 0.5599     GD2\n",
       "199              63                 0.5650     GD2\n",
       "202              66                 0.5408     GD2\n",
       "215              79                 0.5292     GD2\n",
       "216              80                 0.5062     GD2\n",
       "263             127                 0.5413     GD2"
      ]
     },
     "execution_count": 101,
     "metadata": {},
     "output_type": "execute_result"
    }
   ],
   "source": [
    "first_ligand = \"name_of_first_ligand\"\n",
    "second_ligand = \"name_of_second_ligand\"\n",
    "\n",
    "\n",
    "\n",
    "data[\"Binding Probabilities\"] = first_probabilities + gd2_probabilities\n",
    "data[\"Residue Number\"] = residue_number\n",
    "data[\"Ligands\"] = [f\"{first_ligand}\"] * 137 + [f\"{second_ligand}\"] * 137\n",
    "\n",
    "significant_residues = [33, 61, 63, 66, 79, 80, 127]\n",
    "\n",
    "data_filtered = data[data[\"Residue Number\"].isin(significant_residues)]\n",
    "data_filtered"
   ]
  },
  {
   "cell_type": "code",
   "execution_count": 105,
   "metadata": {},
   "outputs": [
    {
     "name": "stderr",
     "output_type": "stream",
     "text": [
      "/var/folders/hf/cpph_csd2x15wb74htypnvbh0000gp/T/ipykernel_35067/1086378744.py:19: UserWarning: set_ticklabels() should only be used with a fixed number of ticks, i.e. after set_ticks() or using a FixedLocator.\n",
      "  residue_graph.set_xticklabels(residue_labels)\n"
     ]
    },
    {
     "data": {
      "text/plain": [
       "[Text(0, 0, 'Y33'),\n",
       " Text(1, 0, 'V61'),\n",
       " Text(2, 0, 'P63'),\n",
       " Text(3, 0, 'E66'),\n",
       " Text(4, 0, 'E79'),\n",
       " Text(5, 0, 'D80'),\n",
       " Text(6, 0, 'K127')]"
      ]
     },
     "execution_count": 105,
     "metadata": {},
     "output_type": "execute_result"
    },
    {
     "data": {
      "image/png": "[encoded data removed]",
      "text/plain": [
       "<Figure size 800x1400 with 1 Axes>"
      ]
     },
     "metadata": {},
     "output_type": "display_data"
    }
   ],
   "source": [
    "plt.figure(\n",
    "    figsize=(8,14)\n",
    ")\n",
    "\n",
    "residue_labels = [\"Y33\", \"V61\", \"P63\", \"E66\", \"E79\", \"D80\", \"K127\"]\n",
    "\n",
    "\n",
    "\n",
    "residue_graph = sns.barplot(\n",
    "    data=data_filtered,\n",
    "    y=\"Binding Probabilities\",\n",
    "    x=\"Residue Number\",\n",
    "    hue=\"Ligands\",\n",
    "    palette=[\"#f4a261\", \"#63b3cf\"]\n",
    ")\n",
    "\n",
    "residue_graph.set_xlabel(\"Residue\")\n",
    "residue_graph.set_ylabel(\"Binding Probability\")\n",
    "residue_graph.set_xticklabels(residue_labels)\n",
    "#residue_graph.set_ybound(0.1)"
   ]
  }
 ],
 "metadata": {
  "kernelspec": {
   "display_name": "Python 3",
   "language": "python",
   "name": "python3"
  },
  "language_info": {
   "codemirror_mode": {
    "name": "ipython",
    "version": 3
   },
   "file_extension": ".py",
   "mimetype": "text/x-python",
   "name": "python",
   "nbconvert_exporter": "python",
   "pygments_lexer": "ipython3",
   "version": "3.12.2"
  }
 },
 "nbformat": 4,
 "nbformat_minor": 2
}
